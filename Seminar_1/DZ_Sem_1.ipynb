{
 "cells": [
  {
   "cell_type": "markdown",
   "metadata": {},
   "source": [
    "### ДЗ СЕМИНАР 1"
   ]
  },
  {
   "cell_type": "markdown",
   "metadata": {},
   "source": [
    "#### Ошибка в затратах на рекламу \n",
    "Дан список adv с затратами на рекламу.\\\n",
    "Но в данных есть ошибки, некоторые затраты имеют отрицательную величину.\\\n",
    "Удалите такие значения из списка и посчитайте суммарные затраты.\\\n",
    "Запишите их в переменную x.\\\n",
    "Используйте list comprehensions.\\\n",
    "adv = [100, 125, -90, 345, 655, -1, 0, 200]"
   ]
  },
  {
   "cell_type": "code",
   "execution_count": 2,
   "metadata": {},
   "outputs": [],
   "source": [
    "adv = [100, 125, -90, 345, 655, -1, 0, 200]"
   ]
  },
  {
   "cell_type": "code",
   "execution_count": 3,
   "metadata": {},
   "outputs": [
    {
     "name": "stdout",
     "output_type": "stream",
     "text": [
      "1425\n"
     ]
    }
   ],
   "source": [
    "x = sum (i for i in adv if i > 0)\n",
    "print(x)"
   ]
  },
  {
   "cell_type": "markdown",
   "metadata": {},
   "source": [
    "### Фрукты\n",
    "На складе лежат разные фрукты в разном количестве.\n",
    "Нужно написать функцию total_fruits, которая на вход принимает любое количество названий фруктов \\\n",
    "и их количество, а возвращает общее количество фруктов на складе. \\\n",
    "можно решить через *kwargs  \n",
    "\n",
    "Пример: print(total_fruits(apples=10, bananas=5, oranges=8)) \\\n",
    "На выходе: 23"
   ]
  },
  {
   "cell_type": "code",
   "execution_count": 7,
   "metadata": {},
   "outputs": [
    {
     "data": {
      "text/plain": [
       "23"
      ]
     },
     "execution_count": 7,
     "metadata": {},
     "output_type": "execute_result"
    }
   ],
   "source": [
    "\n",
    "def total_fruits(**kwargs):   \n",
    "    total = sum(kwargs.values())\n",
    "    return total\n",
    "(total_fruits(apples=10, bananas=5, oranges=8))"
   ]
  },
  {
   "cell_type": "markdown",
   "metadata": {},
   "source": [
    "### Сумма покупок в ноябре\n",
    "\n",
    "Даны два списка: дата покупки dates, суммы покупок по датам income. \\\n",
    "Найти итоговую сумму всех покупок в ноябре и сохранить ее в переменную x. \\\n",
    "Используйте list comprehensions.\n",
    "\n",
    "Пример \\\n",
    "На входе: \\\n",
    "dates = ['2021-11-01'] \\\n",
    "income = [100] \\\n",
    "На выходе: 100"
   ]
  },
  {
   "cell_type": "code",
   "execution_count": 15,
   "metadata": {},
   "outputs": [],
   "source": [
    "dates = ['2021-10-30', '2021-11-01', '2021-11-01', '2021-11-02', '2021-11-03'],\n",
    "income = [20000, 100, 50, 200, 100]"
   ]
  },
  {
   "cell_type": "markdown",
   "metadata": {},
   "source": [
    "Django_jupyter (с использованием shell_plus) \\\n",
    "x = sum([i for i, date in zip(income, dates) if date.startswith('2021-11')]) \\\n",
    "print(x)"
   ]
  },
  {
   "cell_type": "code",
   "execution_count": 30,
   "metadata": {},
   "outputs": [
    {
     "name": "stdout",
     "output_type": "stream",
     "text": [
      "[('2021-10-30', 20000), ('2021-11-01', 100), ('2021-11-01', 50), ('2021-11-02', 200), ('2021-11-03', 100)]\n",
      "[20000, 100, 50, 200, 100]\n"
     ]
    }
   ],
   "source": [
    "november_income = (zip(dates, income))\n",
    "print (list(november_income))\n",
    "november_income = ([i for date, i in zip(dates, income)])\n",
    "print (november_income)"
   ]
  },
  {
   "cell_type": "code",
   "execution_count": 87,
   "metadata": {},
   "outputs": [
    {
     "name": "stdout",
     "output_type": "stream",
     "text": [
      "450\n"
     ]
    }
   ],
   "source": [
    "dates = ['2021-10-30', '2021-11-01', '2021-11-01', '2021-11-02', '2021-11-03']\n",
    "income = [20000, 100, 50, 200, 100]\n",
    "\n",
    "november_income = sum([i for date, i in zip(dates, income) if date[5:7] == '11'])\n",
    "print(november_income)"
   ]
  },
  {
   "cell_type": "markdown",
   "metadata": {},
   "source": [
    "без zip"
   ]
  },
  {
   "cell_type": "code",
   "execution_count": 88,
   "metadata": {},
   "outputs": [
    {
     "name": "stdout",
     "output_type": "stream",
     "text": [
      "450\n"
     ]
    }
   ],
   "source": [
    "november_income = sum([income[i] for i in range(len(dates)) if dates[i].startswith('2021-11')])\n",
    "print(november_income)"
   ]
  },
  {
   "cell_type": "markdown",
   "metadata": {},
   "source": [
    "### Найдите выручку компании\n",
    "Найдите выручку компании в зависимости от месяца \\\n",
    "Для этого напишите функцию calc_income_by_month(), \\\n",
    "которая на вход принимает список с датами и список с выручкой, \\\n",
    "а на выходе словарь, где ключи - это месяцы, а значения - это выручка. \\\n",
    "Используйте аннотирование типов. \n",
    "\n",
    "Пример. На входе: \\\n",
    "dates = ['2021-11-01']\n",
    "incomes = [100]\n",
    "\n",
    "После вашего кода будет автоматически добавлено: \\\n",
    "print(calc_income_by_month(dates = ['2021-11-01'], incomes = [100])) \\\n",
    "На выходе: {'11': 100}"
   ]
  },
  {
   "cell_type": "code",
   "execution_count": 93,
   "metadata": {},
   "outputs": [
    {
     "name": "stdout",
     "output_type": "stream",
     "text": [
      "{'11': 100}\n"
     ]
    }
   ],
   "source": [
    "\"from typing import List\"\n",
    "def calc_income_by_month(dates: list[str], incomes: list[int]) -> dict:\n",
    "    income_by_month = {}\n",
    "    \n",
    "    for i in range(len(dates)):\n",
    "        data = dates[i]\n",
    "        income = incomes[i]\n",
    "        \n",
    "        month = data.split('-')[1]\n",
    "        if month not in income_by_month:\n",
    "            income_by_month[month] = income\n",
    "        else:\n",
    "            income_by_month[month] += income\n",
    "    \n",
    "    return income_by_month\n",
    "print(calc_income_by_month(dates = ['2021-11-01'], incomes = [100]))\n"
   ]
  },
  {
   "cell_type": "code",
   "execution_count": 53,
   "metadata": {},
   "outputs": [
    {
     "name": "stdout",
     "output_type": "stream",
     "text": [
      "{'11': 100}\n"
     ]
    }
   ],
   "source": [
    "def calc_income_by_month(dates: list[str], incomes: list[int]) -> dict:\n",
    "    income_by_month = {}\n",
    "    for date, income in zip(dates, incomes):\n",
    "        month = date.split('-')[1]\n",
    "        if month not in income_by_month:\n",
    "            income_by_month[month] = income\n",
    "        else:\n",
    "            income_by_month[month] += income\n",
    "    return income_by_month\n",
    "print(calc_income_by_month(dates = ['2021-11-01'], incomes = [100]))"
   ]
  },
  {
   "cell_type": "markdown",
   "metadata": {},
   "source": [
    "orig_prices = [125, -1009, 0, 103, 38, -5, 116] \\\n",
    "prices = [i if i > 0 else '<0' for i in orig_prices] \\\n",
    "prices \n",
    "\n",
    "def get_price(price): \\\n",
    "    return price if price > 0 else 'num < 0'"
   ]
  }
 ],
 "metadata": {
  "kernelspec": {
   "display_name": "Python 3",
   "language": "python",
   "name": "python3"
  },
  "language_info": {
   "codemirror_mode": {
    "name": "ipython",
    "version": 3
   },
   "file_extension": ".py",
   "mimetype": "text/x-python",
   "name": "python",
   "nbconvert_exporter": "python",
   "pygments_lexer": "ipython3",
   "version": "3.11.1"
  }
 },
 "nbformat": 4,
 "nbformat_minor": 2
}
